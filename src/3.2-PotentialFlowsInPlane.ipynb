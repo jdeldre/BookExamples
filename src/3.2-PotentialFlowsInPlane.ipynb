{
 "cells": [
  {
   "cell_type": "markdown",
   "metadata": {},
   "source": [
    "#### [**Mathematical Modeling of Unsteady Inviscid Flows**](https://www.springer.com/gp/book/9783030183189)\n",
    "**by Jeff D. Eldredge** (Springer, 2019)\n",
    "\n",
    "This Jupyter notebook and associated code serve as a companion to the book. The notebook is powered by the [`PotentialFlow`](https://github.com/darwindarak/PotentialFlow.jl) package, written in the [Julia language](https://julialang.org/) by Darwin Darakananda and Jeff D. Eldredge. *The code is released under the [MIT license](https://opensource.org/licenses/MIT).*\n",
    "<hr />"
   ]
  },
  {
   "cell_type": "markdown",
   "metadata": {},
   "source": [
    "<!--NAVIGATION-->\n",
    "< [Streamfunction of rigid body motion](3.1-StreamfunctionOfRigidBody.ipynb) | [Contents](Index.ipynb) | [Corner and wedge flows](3.3-CornerWedge.ipynb) >"
   ]
  },
  {
   "cell_type": "markdown",
   "metadata": {},
   "source": [
    "<a id='top'></a>\n",
    "## Basic potential flows in the plane"
   ]
  },
  {
   "cell_type": "markdown",
   "metadata": {},
   "source": [
    "Here, we explore basic potential flows in the two-dimensional plane, and particularly, the flow fields associated with them. This notebook supports **Section 3.2.2** in the book."
   ]
  },
  {
   "cell_type": "markdown",
   "metadata": {},
   "source": [
    "#### First, carry out the preparatory steps."
   ]
  },
  {
   "cell_type": "markdown",
   "metadata": {},
   "source": [
    "Load the necessary packages."
   ]
  },
  {
   "cell_type": "code",
   "execution_count": null,
   "metadata": {},
   "outputs": [],
   "source": [
    "using PotentialFlow\n",
    "using Plots\n",
    "pyplot()"
   ]
  },
  {
   "cell_type": "markdown",
   "metadata": {},
   "source": [
    "Set up the output grid for evaluating fields. We will also set up a 2d array of complex coordinates, since we will be evaluating complex potentials and velocities later. Note that the `Z` array below, like other 2d arrays, is indexed first with the `x` location and second with the `y` location. This means each column of the array is associated with a row in the grid, and vice versa."
   ]
  },
  {
   "cell_type": "code",
   "execution_count": null,
   "metadata": {},
   "outputs": [],
   "source": [
    "nx = 201; ny = 201\n",
    "xmin = -2; xmax = 2\n",
    "ymin = -2; ymax = 2\n",
    "x = range(xmin,xmax,length=nx)\n",
    "y = range(ymin,ymax,length=ny)\n",
    "\n",
    "# Output grid of complex coordinates.\n",
    "Z = [xi + im*yi for xi in x, yi in y]\n",
    "\n",
    "# Initialize complex potential.\n",
    "F = zeros(ComplexF64,nx,ny);"
   ]
  },
  {
   "cell_type": "markdown",
   "metadata": {},
   "source": [
    "<a id='freestream'></a>\n",
    "#### Uniform flow."
   ]
  },
  {
   "cell_type": "markdown",
   "metadata": {},
   "source": [
    "Let's start with a uniform flow. In the previous notebook on the [streamfunction of rigid-body motion](3.1-StreamfunctionOfRigidBody.ipynb) we saw an example of streamlines associated with a moving rigid body. A uniform flow is closely related with rigid-body translation. But here we will evaluate the complex potential of this uniform flow."
   ]
  },
  {
   "cell_type": "markdown",
   "metadata": {},
   "source": [
    "Set the uniform flow. Note that the complex velocity is in its usual conjugate form. **Explore other values!**"
   ]
  },
  {
   "cell_type": "code",
   "execution_count": null,
   "metadata": {},
   "outputs": [],
   "source": [
    "U∞ = 1.0\n",
    "V∞ = -2.0\n",
    "W∞ = U∞-im*V∞"
   ]
  },
  {
   "cell_type": "markdown",
   "metadata": {},
   "source": [
    "Evaluate the complex potential field (3.86)."
   ]
  },
  {
   "cell_type": "code",
   "execution_count": null,
   "metadata": {},
   "outputs": [],
   "source": [
    "F .= W∞*Z;"
   ]
  },
  {
   "cell_type": "markdown",
   "metadata": {},
   "source": [
    "Plot the streamlines. Here, we make use of the fact that the streamfunction is the imaginary part of the complex potential. We need to transpose the array, as we did in the last notebook."
   ]
  },
  {
   "cell_type": "code",
   "execution_count": null,
   "metadata": {},
   "outputs": [],
   "source": [
    "contour(x,y,imag.(F)',ratio=1,legend=:false,color=:black,xlabel=\"x\",ylabel=\"y\",\n",
    "    xlim=(xmin,xmax),ylim=(ymin,ymax))"
   ]
  },
  {
   "cell_type": "markdown",
   "metadata": {},
   "source": [
    "In the `PotentialFlow` package we can create this uniform flow field with the `Freestream` function. We supply this function with the complex velocity given in non-conjugate form:"
   ]
  },
  {
   "cell_type": "code",
   "execution_count": null,
   "metadata": {},
   "outputs": [],
   "source": [
    "fs = Freestreams.Freestream(U∞+im*V∞)"
   ]
  },
  {
   "cell_type": "markdown",
   "metadata": {},
   "source": [
    "And we can plot the streamlines with the `streamlines` function. Note that this function (technically, a *plot recipe* for the `Plots` package) expects a *tuple* of potential flow elements. Here, we supply it with only one such element: the uniform flow. In Julia, a tuple with only a single entry is assigned by `(entry1,)`."
   ]
  },
  {
   "cell_type": "code",
   "execution_count": null,
   "metadata": {},
   "outputs": [],
   "source": [
    "streamlines(x,y,(fs,),ratio = 1, legend = :false,\n",
    "    xlabel=\"x\",ylabel=\"y\",xlim=(xmin,xmax),ylim=(ymin,ymax))"
   ]
  },
  {
   "cell_type": "markdown",
   "metadata": {},
   "source": [
    "We can obtain the velocity of this flow (or any other potential flow) in the `PotentialFlow` package at an evaluation point `z` by using the `induce_velocity` function:"
   ]
  },
  {
   "cell_type": "code",
   "execution_count": null,
   "metadata": {},
   "outputs": [],
   "source": [
    "# evaluation point\n",
    "z = 1.0+0.2im\n",
    "\n",
    "# time of evaluation (irrelevant, but still needed as an argument)\n",
    "t = 0.0\n",
    "\n",
    "induce_velocity(z,fs,t)"
   ]
  },
  {
   "cell_type": "markdown",
   "metadata": {},
   "source": [
    "As expected, the function simply returns the uniform freestream velocity."
   ]
  },
  {
   "cell_type": "markdown",
   "metadata": {},
   "source": [
    "[Return to top of notebook](#top)"
   ]
  },
  {
   "cell_type": "markdown",
   "metadata": {},
   "source": [
    "<a id='point-vortex'></a>\n",
    "#### Point vortex."
   ]
  },
  {
   "cell_type": "markdown",
   "metadata": {},
   "source": [
    "Now let's create a single point vortex and inspect the flow field associated with it. Here we will evaluate equation (3.88)."
   ]
  },
  {
   "cell_type": "markdown",
   "metadata": {},
   "source": [
    "First we will place this at the origin, with strength 1."
   ]
  },
  {
   "cell_type": "code",
   "execution_count": null,
   "metadata": {},
   "outputs": [],
   "source": [
    "Γ = 1.0;"
   ]
  },
  {
   "cell_type": "markdown",
   "metadata": {},
   "source": [
    "Evaluate it."
   ]
  },
  {
   "cell_type": "code",
   "execution_count": null,
   "metadata": {},
   "outputs": [],
   "source": [
    "F .= Γ/(2π*im)*log.(Z);"
   ]
  },
  {
   "cell_type": "markdown",
   "metadata": {},
   "source": [
    "ane plot its streamlines"
   ]
  },
  {
   "cell_type": "code",
   "execution_count": null,
   "metadata": {},
   "outputs": [],
   "source": [
    "contour(x,y,imag.(F)',ratio=1,legend=:false,color=:black,xlabel=\"x\",ylabel=\"y\",\n",
    "    xlim=(xmin,xmax),ylim=(ymin,ymax))"
   ]
  },
  {
   "cell_type": "markdown",
   "metadata": {},
   "source": [
    "Now let us place the vortex at another location, $(x,y) = (1,1)$. "
   ]
  },
  {
   "cell_type": "code",
   "execution_count": null,
   "metadata": {},
   "outputs": [],
   "source": [
    "zv = 1+im*1"
   ]
  },
  {
   "cell_type": "markdown",
   "metadata": {},
   "source": [
    "Evaluate the complex potential now with the vortex at the new location."
   ]
  },
  {
   "cell_type": "code",
   "execution_count": null,
   "metadata": {},
   "outputs": [],
   "source": [
    "F .= Γ/(2π*im)*log.(Z .- zv);"
   ]
  },
  {
   "cell_type": "markdown",
   "metadata": {},
   "source": [
    "and plot it"
   ]
  },
  {
   "cell_type": "code",
   "execution_count": null,
   "metadata": {},
   "outputs": [],
   "source": [
    "contour(x,y,imag.(F)',ratio=1,legend=:false,color=:black,xlabel=\"x\",ylabel=\"y\",\n",
    "    xlim=(xmin,xmax),ylim=(ymin,ymax))"
   ]
  },
  {
   "cell_type": "markdown",
   "metadata": {},
   "source": [
    "The flow pattern is the same (concentric circles), but the center has shifted!"
   ]
  },
  {
   "cell_type": "markdown",
   "metadata": {},
   "source": [
    "With the `PotentialFlow` package, it is easy to generate this with the function `Vortex.Point`:"
   ]
  },
  {
   "cell_type": "code",
   "execution_count": null,
   "metadata": {},
   "outputs": [],
   "source": [
    "v = Vortex.Point(zv,Γ)"
   ]
  },
  {
   "cell_type": "markdown",
   "metadata": {},
   "source": [
    "and plot the streamlines, once again, with the `streamlines` recipe:"
   ]
  },
  {
   "cell_type": "code",
   "execution_count": null,
   "metadata": {},
   "outputs": [],
   "source": [
    "streamlines(x,y,(v,),ratio = 1, legend = :false,\n",
    "    xlabel=\"x\",ylabel=\"y\",xlim=(xmin,xmax),ylim=(ymin,ymax))"
   ]
  },
  {
   "cell_type": "markdown",
   "metadata": {},
   "source": [
    "Once again, we can evaluate the velocity at any location with the `induce_velocity` function"
   ]
  },
  {
   "cell_type": "code",
   "execution_count": null,
   "metadata": {},
   "outputs": [],
   "source": [
    "z = 0.0+0.0im\n",
    "t = 0.0 # time (irrelevant, again)\n",
    "\n",
    "induce_velocity(z,v,t)"
   ]
  },
  {
   "cell_type": "markdown",
   "metadata": {},
   "source": [
    "This is a good opportunity to make an observation about the scalar potential field, $\\varphi$, of a point vortex. Let us evaluate the complex potential associated with a vortex at two points, one just above the negative $x$ axis extending from the vortex center, and one just below it:"
   ]
  },
  {
   "cell_type": "code",
   "execution_count": null,
   "metadata": {},
   "outputs": [],
   "source": [
    "z₊ = -1+1.00000001im # above the line\n",
    "z₋ = -1+0.99999999im; # below the line\n",
    "\n",
    "complexpotential([z₊ z₋],v)"
   ]
  },
  {
   "cell_type": "markdown",
   "metadata": {},
   "source": [
    "Note the jump in the real part. In fact, it should be noted that the jump in this real part is **exactly equal to the strength of the vortex**. This jump is the *branch cut* in the log function. In the case of a vortex, the consequence of this branch cut is that the strength of the vortex is equal to the jump in scalar potential across the branch cut:\n",
    "\n",
    "$$\\Gamma = \\varphi_{+} - \\varphi_{-}$$"
   ]
  },
  {
   "cell_type": "markdown",
   "metadata": {},
   "source": [
    "Why did we know to look along the negative $x$ axis from the center of the vortex? Julia, like most mathematical software, places the branch cut of the log along the $-x$ axis (in a coordinate system based at the origin of the log). Further aspects of multi-valuedness for planar singularities is discussed in detail in **Note 3.2.2**."
   ]
  },
  {
   "cell_type": "markdown",
   "metadata": {},
   "source": [
    "In spite of the branch cut in the scalar potential, the velocity is single valued. We can confirm this by evaluating the velocity at the same two locations, above and below the branch cut:"
   ]
  },
  {
   "cell_type": "code",
   "execution_count": null,
   "metadata": {},
   "outputs": [],
   "source": [
    "t = 0.0\n",
    "induce_velocity([z₊ z₋],v,t)"
   ]
  },
  {
   "cell_type": "markdown",
   "metadata": {},
   "source": [
    "It is clear that the velocity is continuous. (The small difference is due to the finite distance between our two evaluation points.)"
   ]
  },
  {
   "cell_type": "markdown",
   "metadata": {},
   "source": [
    "[Return to top of notebook](#top)"
   ]
  },
  {
   "cell_type": "markdown",
   "metadata": {},
   "source": [
    "<a id='source-sink'></a>\n",
    "#### Source and sink."
   ]
  },
  {
   "cell_type": "markdown",
   "metadata": {},
   "source": [
    "A point (or monopole) source is similar in structure to a vortex, but has streamlines that radiate outward from the center. A sink (a source with negative strength) has streamlines that radiate inward. The complex potential is given by (3.88) again."
   ]
  },
  {
   "cell_type": "markdown",
   "metadata": {},
   "source": [
    "Let's place a source of unit strength at $(1,1)$."
   ]
  },
  {
   "cell_type": "code",
   "execution_count": null,
   "metadata": {},
   "outputs": [],
   "source": [
    "zs = 1.0+im*1.0\n",
    "Q = 1.0;"
   ]
  },
  {
   "cell_type": "markdown",
   "metadata": {},
   "source": [
    "Use the `PotentialFlow` package's `Source.Point` function to create the element"
   ]
  },
  {
   "cell_type": "code",
   "execution_count": null,
   "metadata": {},
   "outputs": [],
   "source": [
    "s = Source.Point(zs,Q)"
   ]
  },
  {
   "cell_type": "markdown",
   "metadata": {},
   "source": [
    "and plot the streamlines"
   ]
  },
  {
   "cell_type": "code",
   "execution_count": null,
   "metadata": {},
   "outputs": [],
   "source": [
    "streamlines(x,y,(s,),ratio = 1, legend = :false,\n",
    "    xlabel=\"x\",ylabel=\"y\",xlim=(xmin,xmax),ylim=(ymin,ymax))"
   ]
  },
  {
   "cell_type": "markdown",
   "metadata": {},
   "source": [
    "Note the presence of the branch cut in the streamfunction field! The streamfunction of a source or sink, equation (3.77), is multi-valued. We can see this by once again inspecting the potential: "
   ]
  },
  {
   "cell_type": "code",
   "execution_count": null,
   "metadata": {},
   "outputs": [],
   "source": [
    "z₊ = -1+1.00000001im # above the cut\n",
    "z₋ = -1+0.99999999im; # below the cut\n",
    "\n",
    "complexpotential([z₊ z₋],s)"
   ]
  },
  {
   "cell_type": "markdown",
   "metadata": {},
   "source": [
    "Note the jump in the imaginary part. Analogous to the case of the vortex, the jump in this imaginary part is **exactly equal to the strength of the source**. This is because this jump represents the difference between the streamfunction values on two bounding streamlines of the flow. These streamlines happen to be right next to each other, but nevertheless, the flow between them fans out from the source. In general, as discussed on page 27 in the book, *the difference in the streamfunction values on two streamlines is equal to the volume flow rate (per unit depth into the screen) of the flow between the streamlines*. That is exactly what the strength $Q$ represents! Try changing `Q` above and observing the corresponding change in the jump."
   ]
  },
  {
   "cell_type": "markdown",
   "metadata": {},
   "source": [
    "$$Q = ψ_{+} - ψ_{-}$$"
   ]
  },
  {
   "cell_type": "markdown",
   "metadata": {},
   "source": [
    "As with the vortex, the velocity field around the source is continuous."
   ]
  },
  {
   "cell_type": "markdown",
   "metadata": {},
   "source": [
    "[Return to top of notebook](#top)"
   ]
  },
  {
   "cell_type": "markdown",
   "metadata": {},
   "source": [
    "<a id='doublet'></a>\n",
    "#### Doublet (or dipole)."
   ]
  },
  {
   "cell_type": "markdown",
   "metadata": {},
   "source": [
    "A doublet is characterized by a position and a vector strength. The strength vector specifies the magnitude and the orientation of the doublet. Its complex potential is given by equation (3.90), with strength $a_1$. Note that the complex strength vector defines the *axis* of the doublet. Along this axis, the **flow proceeds *opposite* the direction in which the strength vector $a_1$ points**.\n",
    "\n",
    "The scalar potential is written in vector form in (3.79), and the complex and vector strengths are related in (3.91)."
   ]
  },
  {
   "cell_type": "markdown",
   "metadata": {},
   "source": [
    "In `PotentialFlow` we can create a doublet by specifying its position and complex strength. However, note that the strength $S$ we specify for this function is equivalent to **half of the complex strength $a_1$** defined in (3.90). "
   ]
  },
  {
   "cell_type": "code",
   "execution_count": null,
   "metadata": {},
   "outputs": [],
   "source": [
    "# Position\n",
    "zd = 0.0+0.0im\n",
    "\n",
    "# Strength.\n",
    "S = 1.0+0im\n",
    "\n",
    "# Set up the doublet element.\n",
    "d = Doublets.Doublet(zd,S)"
   ]
  },
  {
   "cell_type": "code",
   "execution_count": null,
   "metadata": {},
   "outputs": [],
   "source": [
    "streamlines(x,y,(d,),ratio = 1, legend = :false,\n",
    "    xlabel=\"x\",ylabel=\"y\",xlim=(xmin,xmax),ylim=(ymin,ymax),\n",
    "    levels=range(-1,1,length=21))"
   ]
  },
  {
   "cell_type": "markdown",
   "metadata": {},
   "source": [
    "Note that the streamlines of a doublet are circles, all tangent to the $x$ axis."
   ]
  },
  {
   "cell_type": "markdown",
   "metadata": {},
   "source": [
    "Also, note that doublets (and all other higher-order singularities) have single-valued potentials and streamfunctions. Only the fundamental singularities (vortex and source) have branch cuts. In the next notebook on [corner and wedge flows](3.3-CornerWedge.ipynb), we will see branch cuts occur in another potential flow context."
   ]
  },
  {
   "cell_type": "markdown",
   "metadata": {},
   "source": [
    "[Return to top of notebook](#top)"
   ]
  },
  {
   "cell_type": "markdown",
   "metadata": {},
   "source": [
    "<a id='combos'></a>\n",
    "### Combination of potential flows."
   ]
  },
  {
   "cell_type": "markdown",
   "metadata": {},
   "source": [
    "<a id='kelvin'></a>\n",
    "#### A Kelvin oval"
   ]
  },
  {
   "cell_type": "markdown",
   "metadata": {},
   "source": [
    "Let's combine the preceding flows. We will construct a *Kelvin oval*, consisting of two counter-rotating point vortices arranged along the $y$ axis (at $-i h$ with strength $\\Gamma$ and $ih$ with strength $-\\Gamma$) and a uniform flow $U_\\infty$ in the $x$ direction that opposes the flow that this vortex pair generates along the centerline."
   ]
  },
  {
   "cell_type": "markdown",
   "metadata": {},
   "source": [
    "The complex velocity field of this flow is given by"
   ]
  },
  {
   "cell_type": "markdown",
   "metadata": {},
   "source": [
    "$w(z) = U_\\infty + \\dfrac{\\Gamma}{2\\pi i}\\left( \\dfrac{1}{z+ih} - \\dfrac{1}{z-ih}\\right)$"
   ]
  },
  {
   "cell_type": "code",
   "execution_count": null,
   "metadata": {},
   "outputs": [],
   "source": [
    "U∞ = 1.0\n",
    "Γ = 5.0\n",
    "h = 1.0\n",
    "fs = Freestreams.Freestream(U∞)\n",
    "vlo = Vortex.Point(-im*h,Γ)\n",
    "vhi = Vortex.Point(im*h,-Γ)\n",
    "sys = (fs,vlo,vhi)"
   ]
  },
  {
   "cell_type": "code",
   "execution_count": null,
   "metadata": {},
   "outputs": [],
   "source": [
    "streamlines(x,y,sys,ratio = 1, legend = :false,\n",
    "    xlabel=\"x\",ylabel=\"y\",xlim=(xmin,xmax),ylim=(ymin,ymax))"
   ]
  },
  {
   "cell_type": "markdown",
   "metadata": {},
   "source": [
    "The *stagnation streamline* exhibits an oval shape around the vortex pair. It is a good exercise to show that the stagnation points generated by this flow occur at"
   ]
  },
  {
   "cell_type": "markdown",
   "metadata": {},
   "source": [
    "$$x_s = \\pm \\left[ \\dfrac{\\Gamma h}{\\pi U_\\infty} - h^2\\right]^{1/2}$$"
   ]
  },
  {
   "cell_type": "markdown",
   "metadata": {},
   "source": [
    "Note that the strength of the vortices must be at least $\\pi U_\\infty h$ to generate a closed body. Evaluate the position of the stagnation points:"
   ]
  },
  {
   "cell_type": "code",
   "execution_count": null,
   "metadata": {},
   "outputs": [],
   "source": [
    "xs = sqrt(Γ*h/(π*U∞)-h^2)"
   ]
  },
  {
   "cell_type": "markdown",
   "metadata": {},
   "source": [
    "Check that the velocity is indeed zero at this location, using the `induce_velocity` function of the `PotentialFlow` package. (The last argument of this function is time, which is irrelevant in this steady flow.)"
   ]
  },
  {
   "cell_type": "code",
   "execution_count": null,
   "metadata": {},
   "outputs": [],
   "source": [
    "induce_velocity(xs+0im,sys,0.0)"
   ]
  },
  {
   "cell_type": "markdown",
   "metadata": {},
   "source": [
    "[Return to top of notebook](#top)"
   ]
  },
  {
   "cell_type": "markdown",
   "metadata": {},
   "source": [
    "<a id='doublet-freestream'></a>\n",
    "#### Doublet in a uniform flow"
   ]
  },
  {
   "cell_type": "markdown",
   "metadata": {},
   "source": [
    "Let us combine a doublet at the origin, whose axis points along the $-x$ axis, with a uniform flow in the $x$ direction."
   ]
  },
  {
   "cell_type": "code",
   "execution_count": null,
   "metadata": {},
   "outputs": [],
   "source": [
    "zd = 0.0+0.0im\n",
    "S = 1.0+0.0im\n",
    "U∞ = 1.0;"
   ]
  },
  {
   "cell_type": "markdown",
   "metadata": {},
   "source": [
    "Create the doublet-freestream system"
   ]
  },
  {
   "cell_type": "code",
   "execution_count": null,
   "metadata": {},
   "outputs": [],
   "source": [
    "sys = (Doublets.Doublet(zd,S),Freestreams.Freestream(U∞))"
   ]
  },
  {
   "cell_type": "markdown",
   "metadata": {},
   "source": [
    "and plot its streamlines"
   ]
  },
  {
   "cell_type": "code",
   "execution_count": null,
   "metadata": {},
   "outputs": [],
   "source": [
    "streamlines(x,y,sys,ratio = 1, legend = :false,\n",
    "    xlabel=\"x\",ylabel=\"y\",xlim=(xmin,xmax),ylim=(ymin,ymax),\n",
    "    levels=range(-2,2,length=21))"
   ]
  },
  {
   "cell_type": "markdown",
   "metadata": {},
   "source": [
    "Now we've generated a closed body that is a perfect circle! What is the radius of the circle? Using the complex velocities from (3.86) and (3.90), you can show that the stagnation points are at"
   ]
  },
  {
   "cell_type": "markdown",
   "metadata": {},
   "source": [
    "$$x_s = \\pm \\left( \\dfrac{a_1}{2 \\pi U_\\infty}\\right)^{1/2} $$"
   ]
  },
  {
   "cell_type": "markdown",
   "metadata": {},
   "source": [
    "Since it is a circular stagnation streamline, this must be the radius of the circle. Let's calculate that radius here (remembering that our strength $S$ is equivalent to $a_1/2$):"
   ]
  },
  {
   "cell_type": "code",
   "execution_count": null,
   "metadata": {},
   "outputs": [],
   "source": [
    "R = sqrt(real(S)/(π*U∞))"
   ]
  },
  {
   "cell_type": "markdown",
   "metadata": {},
   "source": [
    "[Return to top of notebook](#top)"
   ]
  },
  {
   "cell_type": "markdown",
   "metadata": {},
   "source": [
    "#### Computing pressure"
   ]
  },
  {
   "cell_type": "markdown",
   "metadata": {},
   "source": [
    "In these inviscid flows, incompressible and irrotational (almost everywhere), the Bernoulli equation (3.60) is valid"
   ]
  },
  {
   "cell_type": "markdown",
   "metadata": {},
   "source": [
    "$$p + \\frac{1}{2}\\rho |\\mathbf{v}|^2 + \\rho\\dfrac{\\partial \\varphi}{\\partial t} = B(t)$$"
   ]
  },
  {
   "cell_type": "markdown",
   "metadata": {},
   "source": [
    "where $\\varphi$ is the scalar potential field and $B(t)$ is the uniform *Bernoulli constant*. Let us compute the pressure distribution around the closed circular streamline that we generted in the previous example."
   ]
  },
  {
   "cell_type": "markdown",
   "metadata": {},
   "source": [
    "First, we set up an array of points on the circle. We just computed the radius of the circle:"
   ]
  },
  {
   "cell_type": "code",
   "execution_count": null,
   "metadata": {},
   "outputs": [],
   "source": [
    "# angular positions\n",
    "θ = range(0,2π,length=201)\n",
    "\n",
    "# complex coordinates of these positions\n",
    "z = R*exp.(im*θ);"
   ]
  },
  {
   "cell_type": "markdown",
   "metadata": {},
   "source": [
    "This is a steady flow, so we need not worry about $\\partial\\varphi/\\partial t$. Since all points in the plane share the same value of $B$, we can refer the points on the circular streamline to a point at infinity, where"
   ]
  },
  {
   "cell_type": "markdown",
   "metadata": {},
   "source": [
    "$$p_{\\infty} + \\frac{1}{2} \\rho U_\\infty^2 = B(t)$$"
   ]
  },
  {
   "cell_type": "markdown",
   "metadata": {},
   "source": [
    "From this comparison, we can calculate the pressure coefficient:"
   ]
  },
  {
   "cell_type": "markdown",
   "metadata": {},
   "source": [
    "$$C_p = \\dfrac{p-p_\\infty}{\\rho U_\\infty^2/2}$$"
   ]
  },
  {
   "cell_type": "markdown",
   "metadata": {},
   "source": [
    "In this case, this is"
   ]
  },
  {
   "cell_type": "markdown",
   "metadata": {},
   "source": [
    "$$C_p(\\theta) = \\dfrac{\\rho (U_\\infty^2-|\\mathbf{v}|^2)/2}{\\rho U_\\infty^2/2} = 1 - |\\mathbf{v}|^2/U_\\infty^2$$"
   ]
  },
  {
   "cell_type": "code",
   "execution_count": null,
   "metadata": {},
   "outputs": [],
   "source": [
    "t = 0.0\n",
    "Cp = 1 .- abs.(induce_velocity(z,sys,t)).^2/U∞^2;"
   ]
  },
  {
   "cell_type": "markdown",
   "metadata": {},
   "source": [
    "Plot this pressure coefficient as a function of angular position:"
   ]
  },
  {
   "cell_type": "code",
   "execution_count": null,
   "metadata": {},
   "outputs": [],
   "source": [
    "plot(θ,Cp,legend=:false,xlims=(0,2π),ylims=(-3,3),xlabel=\"θ\",ylabel=\"Cp(θ)\")"
   ]
  },
  {
   "cell_type": "markdown",
   "metadata": {},
   "source": [
    "Note that $\\theta = 0$ is at the rear of the circle (at $x = R$), $\\theta = \\pi/2$ is at the top $y = R$, and $\\theta = \\pi$ is at the front, $x = -R$). This distribution is symmetric in both the $x$ and $y$ directions, implying that it exerts **no net force** on the circle. This is a specific example of *d'Alembert's paradox*."
   ]
  },
  {
   "cell_type": "markdown",
   "metadata": {},
   "source": [
    "<!--NAVIGATION-->\n",
    "< [Streamfunction of rigid body motion](3.1-StreamfunctionOfRigidBody.ipynb) | [Contents](Index.ipynb) | [Corner and wedge flows](3.3-CornerWedge.ipynb) >"
   ]
  }
 ],
 "metadata": {
  "kernelspec": {
   "display_name": "Julia 1.1.0",
   "language": "julia",
   "name": "julia-1.1"
  },
  "language_info": {
   "file_extension": ".jl",
   "mimetype": "application/julia",
   "name": "julia",
   "version": "1.1.0"
  }
 },
 "nbformat": 4,
 "nbformat_minor": 4
}
