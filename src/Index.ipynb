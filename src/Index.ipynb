{
 "cells": [
  {
   "cell_type": "markdown",
   "metadata": {},
   "source": [
    "#### [**Mathematical Modeling of Unsteady Inviscid Flows**](https://www.springer.com/gp/book/9783030183189)\n",
    "**by Jeff D. Eldredge** (Springer, 2019)"
   ]
  },
  {
   "cell_type": "markdown",
   "metadata": {},
   "source": [
    "![BookCover](../figures/9783030183189-smaller.png)"
   ]
  },
  {
   "cell_type": "markdown",
   "metadata": {},
   "source": [
    "These Jupyter notebooks and associated code serve as a companion to the book. Though they can be used in a standalone manner, they refer to details and concepts explained in the book, and the notebooks refer to specific sections and equations in the book.\n",
    "\n",
    "The notebooks are powered by the [`PotentialFlow`](https://github.com/darwindarak/PotentialFlow.jl) package, written in the [Julia language](https://julialang.org/) by Darwin Darakananda and Jeff D. Eldredge. *The code is released under the [MIT license](https://opensource.org/licenses/MIT).*\n",
    "<hr />"
   ]
  },
  {
   "cell_type": "markdown",
   "metadata": {},
   "source": [
    "## Table of Notebooks\n",
    "\n",
    "The following table of notebooks is coordinated with that of the book, and chapter names are from the book itself.\n",
    "\n",
    "#### Chapter 3. Foundational Concepts\n",
    "\n",
    "- [Streamfunction of rigid-body motion](3.1-StreamfunctionOfRigidBody.ipynb)\n",
    "\n",
    "#### Chapter 4. General Results of Incompressible Flow About a Body\n",
    "\n",
    "#### Chapter 5. Edge Conditions\n",
    "\n",
    "#### Chapter 6. Force and Moment on a Body\n",
    "\n",
    "#### Chapter 7. Transport of Vortex Elements\n",
    "\n",
    "#### Chapter 8. Flow about a Two-Dimensional Flat Plate\n",
    "\n",
    "#### Chapter 9. Examples of Two-Dimensional Flow Modeling\n",
    "\n",
    "#### Chapter 10. Rigid Motion of an Ellipsoidal Body\n",
    "\n",
    "#### Appendix. Mathematical Tools"
   ]
  }
 ],
 "metadata": {
  "kernelspec": {
   "display_name": "Julia 1.1.0",
   "language": "julia",
   "name": "julia-1.1"
  },
  "language_info": {
   "file_extension": ".jl",
   "mimetype": "application/julia",
   "name": "julia",
   "version": "1.1.0"
  }
 },
 "nbformat": 4,
 "nbformat_minor": 4
}
