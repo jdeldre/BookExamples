{
 "cells": [
  {
   "cell_type": "markdown",
   "metadata": {},
   "source": [
    "#### [**Mathematical Modeling of Unsteady Inviscid Flows**](https://www.springer.com/gp/book/9783030183189)\n",
    "**by Jeff D. Eldredge** (Springer, 2019)\n",
    "\n",
    "This Jupyter notebook and associated code serve as a companion to the book. The notebook is powered by the [`PotentialFlow`](https://github.com/darwindarak/PotentialFlow.jl) package, written in the [Julia language](https://julialang.org/) by Darwin Darakananda and Jeff D. Eldredge. *The code is released under the [MIT license](https://opensource.org/licenses/MIT).*\n",
    "<hr />"
   ]
  },
  {
   "cell_type": "markdown",
   "metadata": {},
   "source": [
    "<!--NAVIGATION-->\n",
    "< [Introduction](0.1-Intro.ipynb) | [Contents](Index.ipynb) | [Potential flows in the plane](3.2-PotentialFlowsInPlane.ipynb) >"
   ]
  },
  {
   "cell_type": "markdown",
   "metadata": {},
   "source": [
    "## Streamfunction of rigid-body motion"
   ]
  },
  {
   "cell_type": "markdown",
   "metadata": {},
   "source": [
    "In this notebook, we will demonstrate some aspects of the streamfunction of rigid-body motion, in connection with **Note 3.1.1** in the book. The basic form of this streamfunction is"
   ]
  },
  {
   "cell_type": "markdown",
   "metadata": {},
   "source": [
    "$$\\psi_b(x,y) = U_r y - V_r x - \\frac{1}{2}\\Omega (x^2+y^2)$$"
   ]
  },
  {
   "cell_type": "markdown",
   "metadata": {},
   "source": [
    "For this example, we will imagine a field that moves *entirely* as a rigid body. In other words, the field has a uniform translational velocity with components $(U_r,V_r)$ and angular velocity $\\Omega$. "
   ]
  },
  {
   "cell_type": "markdown",
   "metadata": {},
   "source": [
    "Any streamline of a flow has a uniform value of streamfunction along it. We can use this fact for plotting streamlines, since the streamlines are equivalent to a line contour plot of the streamfunction field. "
   ]
  },
  {
   "cell_type": "markdown",
   "metadata": {},
   "source": [
    "##### Load the necessary packages."
   ]
  },
  {
   "cell_type": "code",
   "execution_count": 20,
   "metadata": {},
   "outputs": [
    {
     "data": {
      "text/plain": [
       "Plots.PyPlotBackend()"
      ]
     },
     "execution_count": 20,
     "metadata": {},
     "output_type": "execute_result"
    }
   ],
   "source": [
    "using Plots\n",
    "pyplot()"
   ]
  },
  {
   "cell_type": "markdown",
   "metadata": {},
   "source": [
    "##### Set up the output grid.\n",
    "First set the grid on which we will evaluate and view the streamfunction. The grid is set up as a pair of 1d arrays of equally-spaced points in the `x` and `y` directions, respectively. We also allocate memory for the streamfunction array:"
   ]
  },
  {
   "cell_type": "code",
   "execution_count": 21,
   "metadata": {},
   "outputs": [],
   "source": [
    "nx = 201; ny = 201\n",
    "xmin = -2; xmax = 2\n",
    "ymin = -2; ymax = 2\n",
    "x = range(xmin,xmax,length=nx)\n",
    "y = range(ymin,ymax,length=ny)\n",
    "ψ = zeros(nx,ny);"
   ]
  },
  {
   "cell_type": "markdown",
   "metadata": {},
   "source": [
    "##### Set the velocity components here.\n",
    "Of course, you are encouraged to try changing these and inspecting the results."
   ]
  },
  {
   "cell_type": "code",
   "execution_count": 22,
   "metadata": {},
   "outputs": [],
   "source": [
    "Uᵣ = 1.0\n",
    "Vᵣ = 0.0\n",
    "Ω  = 0.0;"
   ]
  },
  {
   "cell_type": "markdown",
   "metadata": {},
   "source": [
    "##### Now evaluate the streamfunction.\n",
    "This introduces some Julia syntax, as well. The `.=` assigns the existing memory in `ψ` to the right-hand side, and the `.` in front of each operator performs a vectorized (i.e., element by element) version of that operator.\n",
    "\n",
    "The `x` and `y` arrays are both 1d, and we copy them, respectively, into each column and row of the 2d `ψ` array. Note that each *column* of this 2d array represents a *row* on the grid, and vice versa, since we associate the horizontal coordinates with the first index of the array. One-dimensional arrays in Julia are naturally in column form. For these reasons:\n",
    "- The `y` array must be transposed into rows (with the `'` appendage) in the following assignment.\n",
    "- When we create the contour plot later, we need to transpose the `ψ` array to orient it as we would expect."
   ]
  },
  {
   "cell_type": "code",
   "execution_count": 23,
   "metadata": {},
   "outputs": [],
   "source": [
    "ψ .= Uᵣ*y' .- Vᵣ*x .- 0.5*Ω*(x.^2 .+ (y.^2)');"
   ]
  },
  {
   "cell_type": "markdown",
   "metadata": {},
   "source": [
    "Plot the streamfunction contours to view the streamlines. We take care to make sure the aspect ratio is 1."
   ]
  },
  {
   "cell_type": "code",
   "execution_count": 24,
   "metadata": {},
   "outputs": [
    {
     "data": {
      "image/png": "[encoded data removed]"
     },
     "execution_count": 24,
     "metadata": {},
     "output_type": "execute_result"
    }
   ],
   "source": [
    "contour(x,y,ψ',ratio=1,legend=:false,color=:black,xlabel=\"x\",ylabel=\"y\",\n",
    "    xlim=(xmin,xmax),ylim=(ymin,ymax))"
   ]
  },
  {
   "cell_type": "markdown",
   "metadata": {},
   "source": [
    "Note that the only thing the contour plot does not provide is the *directionality* of the flow. Of course, we know this directionality from the velocity components we set earlier, and we could add arrows if we desired to depict this directionality on the plot."
   ]
  },
  {
   "cell_type": "markdown",
   "metadata": {},
   "source": [
    "<!--NAVIGATION-->\n",
    "< [Introduction](0.1-Intro.ipynb) | [Contents](Index.ipynb) | [Potential flows in the plane](3.2-PotentialFlowsInPlane.ipynb) >"
   ]
  }
 ],
 "metadata": {
  "kernelspec": {
   "display_name": "Julia 1.1.0",
   "language": "julia",
   "name": "julia-1.1"
  },
  "language_info": {
   "file_extension": ".jl",
   "mimetype": "application/julia",
   "name": "julia",
   "version": "1.1.0"
  }
 },
 "nbformat": 4,
 "nbformat_minor": 4
}
